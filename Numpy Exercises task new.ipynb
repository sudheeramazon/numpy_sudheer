{
 "cells": [
  {
   "cell_type": "markdown",
   "metadata": {},
   "source": [
    "# 1. Consider an array Z = [1,2,3,4,5,6,7,8,9,10,11,12,13,14], how to generate an array R = [[1,2,3,4], [2,3,4,5], [3,4,5,6], ..., [11,12,13,14]]?"
   ]
  },
  {
   "cell_type": "code",
   "execution_count": 2,
   "metadata": {},
   "outputs": [
    {
     "name": "stdout",
     "output_type": "stream",
     "text": [
      "original: \n",
      "[ 1  2  3  4  5  6  7  8  9 10 11 12 13 14]\n",
      "after strides: \n",
      "[[ 1  2  3  4]\n",
      " [ 2  3  4  5]\n",
      " [ 3  4  5  6]\n",
      " [ 4  5  6  7]\n",
      " [ 5  6  7  8]\n",
      " [ 6  7  8  9]\n",
      " [ 7  8  9 10]\n",
      " [ 8  9 10 11]\n",
      " [ 9 10 11 12]\n",
      " [10 11 12 13]\n",
      " [11 12 13 14]]\n"
     ]
    }
   ],
   "source": [
    "import numpy as np\n",
    "Z = np.arange(1,15,dtype=int)\n",
    "\n",
    "def rolling(a, window):\n",
    "    shape = (a.size - window + 1, window)\n",
    "    strides = (a.itemsize, a.itemsize)\n",
    "    return np.lib.stride_tricks.as_strided(a, shape=shape, strides=strides)\n",
    "R = rolling(Z, 4)\n",
    "print ('original: ')\n",
    "print (Z)\n",
    "print ('after strides: ')\n",
    "print(R)"
   ]
  },
  {
   "cell_type": "markdown",
   "metadata": {},
   "source": [
    "# 2.Compute a matrix rank"
   ]
  },
  {
   "cell_type": "code",
   "execution_count": 40,
   "metadata": {},
   "outputs": [
    {
     "name": "stdout",
     "output_type": "stream",
     "text": [
      "10\n"
     ]
    }
   ],
   "source": [
    "Z = np.random.uniform(0,1,(10,10))\n",
    "U, S, V = np.linalg.svd(Z)\n",
    "rank = np.sum(S > 1e-10)\n",
    "print (rank)"
   ]
  },
  {
   "cell_type": "markdown",
   "metadata": {},
   "source": [
    "# 3.How to find the most frequent value in an array?"
   ]
  },
  {
   "cell_type": "code",
   "execution_count": 4,
   "metadata": {},
   "outputs": [
    {
     "name": "stdout",
     "output_type": "stream",
     "text": [
      "[2 5 9 2 2 5 1 0 7 1 0 4 0 5 4 2 6 8 8 9 4 3 6 2 2 0 2 4 8 1 9 4 5 1 0 5 2\n",
      " 9 8 6 0 6 3 5 9 4 2 3 0 9]\n",
      "rank: 2\n"
     ]
    }
   ],
   "source": [
    "Z = np.random.randint(0,10,50)\n",
    "print (Z)\n",
    "print('rank:', np.bincount(Z).argmax())"
   ]
  },
  {
   "cell_type": "markdown",
   "metadata": {},
   "source": [
    "# 4.Extract all the contiguous 3x3 blocks from a random 10x10 matrix"
   ]
  },
  {
   "cell_type": "code",
   "execution_count": 35,
   "metadata": {
    "scrolled": true
   },
   "outputs": [
    {
     "name": "stdout",
     "output_type": "stream",
     "text": [
      "[[[[2 1 4]\n",
      "   [3 0 4]\n",
      "   [2 3 3]]\n",
      "\n",
      "  [[1 4 2]\n",
      "   [0 4 3]\n",
      "   [3 3 3]]\n",
      "\n",
      "  [[4 2 2]\n",
      "   [4 3 3]\n",
      "   [3 3 2]]\n",
      "\n",
      "  [[2 2 0]\n",
      "   [3 3 1]\n",
      "   [3 2 0]]]\n",
      "\n",
      "\n",
      " [[[3 0 4]\n",
      "   [2 3 3]\n",
      "   [2 1 4]]\n",
      "\n",
      "  [[0 4 3]\n",
      "   [3 3 3]\n",
      "   [1 4 4]]\n",
      "\n",
      "  [[4 3 3]\n",
      "   [3 3 2]\n",
      "   [4 4 2]]\n",
      "\n",
      "  [[3 3 1]\n",
      "   [3 2 0]\n",
      "   [4 2 0]]]\n",
      "\n",
      "\n",
      " [[[2 3 3]\n",
      "   [2 1 4]\n",
      "   [1 1 3]]\n",
      "\n",
      "  [[3 3 3]\n",
      "   [1 4 4]\n",
      "   [1 3 2]]\n",
      "\n",
      "  [[3 3 2]\n",
      "   [4 4 2]\n",
      "   [3 2 2]]\n",
      "\n",
      "  [[3 2 0]\n",
      "   [4 2 0]\n",
      "   [2 2 0]]]\n",
      "\n",
      "\n",
      " [[[2 1 4]\n",
      "   [1 1 3]\n",
      "   [0 1 3]]\n",
      "\n",
      "  [[1 4 4]\n",
      "   [1 3 2]\n",
      "   [1 3 1]]\n",
      "\n",
      "  [[4 4 2]\n",
      "   [3 2 2]\n",
      "   [3 1 2]]\n",
      "\n",
      "  [[4 2 0]\n",
      "   [2 2 0]\n",
      "   [1 2 1]]]]\n"
     ]
    }
   ],
   "source": [
    "Z = np.random.randint(0,5,(6,6))\n",
    "n = 3\n",
    "i = 1 + (Z.shape[0]-3)\n",
    "j = 1 + (Z.shape[1]-3)\n",
    "C = np.lib.stride_tricks.as_strided(Z, shape=(i, j, n, n), strides=Z.strides + Z.strides)\n",
    "print(C)"
   ]
  },
  {
   "cell_type": "markdown",
   "metadata": {},
   "source": [
    "# 5.Create a 2D array subclass such that Z[i,j] == Z[j,i]"
   ]
  },
  {
   "cell_type": "code",
   "execution_count": 53,
   "metadata": {},
   "outputs": [
    {
     "name": "stdout",
     "output_type": "stream",
     "text": [
      "[[ 9  6 11  9  6]\n",
      " [ 6  4  3 12 10]\n",
      " [11  3  6 42  7]\n",
      " [ 9 12 42  5 10]\n",
      " [ 6 10  7 10  0]]\n"
     ]
    }
   ],
   "source": [
    "import numpy as np\n",
    "class Symetric(np.ndarray):\n",
    "    def __setitem__(self, index, value):\n",
    "        i,j = index\n",
    "        super(Symetric, self).__setitem__((i,j), value)\n",
    "        super(Symetric, self).__setitem__((j,i), value)\n",
    "\n",
    "def symetric(Z):\n",
    "    return np.asarray(Z + Z.T - np.diag(Z.diagonal())).view(Symetric)\n",
    "\n",
    "S = symetric(np.random.randint(0,10,(5,5)))\n",
    "S[2,3] = 42\n",
    "print(S)"
   ]
  },
  {
   "cell_type": "markdown",
   "metadata": {},
   "source": [
    "# 6.Consider a set of p matrices wich shape (n,n) and a set of p vectors with shape (n,1). How to compute the sum of of the p matrix products at once? (result has shape (n,1))"
   ]
  },
  {
   "cell_type": "code",
   "execution_count": 7,
   "metadata": {},
   "outputs": [
    {
     "name": "stdout",
     "output_type": "stream",
     "text": [
      "[[200.]\n",
      " [200.]\n",
      " [200.]\n",
      " [200.]\n",
      " [200.]\n",
      " [200.]\n",
      " [200.]\n",
      " [200.]\n",
      " [200.]\n",
      " [200.]\n",
      " [200.]\n",
      " [200.]\n",
      " [200.]\n",
      " [200.]\n",
      " [200.]\n",
      " [200.]\n",
      " [200.]\n",
      " [200.]\n",
      " [200.]\n",
      " [200.]]\n"
     ]
    }
   ],
   "source": [
    "p, n = 10, 20\n",
    "M = np.ones((p,n,n))\n",
    "V = np.ones((p,n,1))\n",
    "S = np.tensordot(M, V, axes=[[0, 2], [0, 1]])\n",
    "print(S)\n"
   ]
  },
  {
   "cell_type": "markdown",
   "metadata": {},
   "source": [
    "# 7.Consider a 16x16 array, how to get the block-sum (block size is 4x4)?"
   ]
  },
  {
   "cell_type": "code",
   "execution_count": 8,
   "metadata": {},
   "outputs": [
    {
     "name": "stdout",
     "output_type": "stream",
     "text": [
      "input array\n",
      "[[1. 1. 1. 1. 1. 1. 1. 1. 1. 1. 1. 1. 1. 1. 1. 1.]\n",
      " [1. 1. 1. 1. 1. 1. 1. 1. 1. 1. 1. 1. 1. 1. 1. 1.]\n",
      " [1. 1. 1. 1. 1. 1. 1. 1. 1. 1. 1. 1. 1. 1. 1. 1.]\n",
      " [1. 1. 1. 1. 1. 1. 1. 1. 1. 1. 1. 1. 1. 1. 1. 1.]\n",
      " [1. 1. 1. 1. 1. 1. 1. 1. 1. 1. 1. 1. 1. 1. 1. 1.]\n",
      " [1. 1. 1. 1. 1. 1. 1. 1. 1. 1. 1. 1. 1. 1. 1. 1.]\n",
      " [1. 1. 1. 1. 1. 1. 1. 1. 1. 1. 1. 1. 1. 1. 1. 1.]\n",
      " [1. 1. 1. 1. 1. 1. 1. 1. 1. 1. 1. 1. 1. 1. 1. 1.]\n",
      " [1. 1. 1. 1. 1. 1. 1. 1. 1. 1. 1. 1. 1. 1. 1. 1.]\n",
      " [1. 1. 1. 1. 1. 1. 1. 1. 1. 1. 1. 1. 1. 1. 1. 1.]\n",
      " [1. 1. 1. 1. 1. 1. 1. 1. 1. 1. 1. 1. 1. 1. 1. 1.]\n",
      " [1. 1. 1. 1. 1. 1. 1. 1. 1. 1. 1. 1. 1. 1. 1. 1.]\n",
      " [1. 1. 1. 1. 1. 1. 1. 1. 1. 1. 1. 1. 1. 1. 1. 1.]\n",
      " [1. 1. 1. 1. 1. 1. 1. 1. 1. 1. 1. 1. 1. 1. 1. 1.]\n",
      " [1. 1. 1. 1. 1. 1. 1. 1. 1. 1. 1. 1. 1. 1. 1. 1.]\n",
      " [1. 1. 1. 1. 1. 1. 1. 1. 1. 1. 1. 1. 1. 1. 1. 1.]]\n",
      "block sum\n",
      "[[16. 16. 16. 16.]\n",
      " [16. 16. 16. 16.]\n",
      " [16. 16. 16. 16.]\n",
      " [16. 16. 16. 16.]]\n"
     ]
    }
   ],
   "source": [
    "Z = np.ones((16,16))\n",
    "k = 4\n",
    "S = np.add.reduceat(np.add.reduceat(Z, np.arange(0, Z.shape[0], k), axis=0),\n",
    "                                       np.arange(0, Z.shape[1], k), axis=1)\n",
    "print ('input array')\n",
    "print (Z)\n",
    "print ('block sum')\n",
    "print (S)"
   ]
  },
  {
   "cell_type": "markdown",
   "metadata": {},
   "source": [
    "# 8.How to implement the Game of Life using numpy arrays?"
   ]
  },
  {
   "cell_type": "code",
   "execution_count": 34,
   "metadata": {},
   "outputs": [
    {
     "data": {
      "text/plain": [
       "array([[0, 0, 0, ..., 0, 0, 0],\n",
       "       [0, 0, 0, ..., 0, 0, 0],\n",
       "       [0, 0, 0, ..., 0, 0, 0],\n",
       "       ...,\n",
       "       [0, 0, 0, ..., 0, 0, 0],\n",
       "       [0, 0, 0, ..., 0, 0, 0],\n",
       "       [0, 0, 0, ..., 0, 0, 0]])"
      ]
     },
     "execution_count": 34,
     "metadata": {},
     "output_type": "execute_result"
    }
   ],
   "source": [
    "def iterate(Z):\n",
    "    N = (Z[0:-2,0:-2] + Z[0:-2,1:-1] + Z[0:-2,2:] +\n",
    "         Z[1:-1,0:-2]                + Z[1:-1,2:] +\n",
    "         Z[2:  ,0:-2] + Z[2:  ,1:-1] + Z[2:  ,2:])\n",
    "\n",
    "    birth = (N==3) & (Z[1:-1,1:-1]==0)\n",
    "    survive = ((N==2) | (N==3)) & (Z[1:-1,1:-1]==1)\n",
    "    Z[...] = 0\n",
    "    Z[1:-1,1:-1][birth | survive] = 1\n",
    "    return Z\n",
    "\n",
    "Z = np.random.randint(0,2,(50,50))\n",
    "for i in range(100): Z = iterate(Z)\n",
    "Z"
   ]
  },
  {
   "cell_type": "markdown",
   "metadata": {},
   "source": [
    "# 9.How to get the n largest values of an array"
   ]
  },
  {
   "cell_type": "code",
   "execution_count": 31,
   "metadata": {},
   "outputs": [
    {
     "name": "stdout",
     "output_type": "stream",
     "text": [
      "[9995 9996 9997 9998 9999]\n",
      "[9997 9998 9999 9996 9995]\n"
     ]
    }
   ],
   "source": [
    "Z = np.arange(10000)\n",
    "np.random.shuffle(Z)\n",
    "n = 5\n",
    "print (Z[np.argsort(Z)[-n:]])\n",
    "print (Z[np.argpartition(-Z,n)[:n]])"
   ]
  },
  {
   "cell_type": "markdown",
   "metadata": {},
   "source": [
    "# 10.Given an arbitrary number of vectors, build the cartesian product (every combinations of every item)"
   ]
  },
  {
   "cell_type": "code",
   "execution_count": 11,
   "metadata": {},
   "outputs": [
    {
     "name": "stdout",
     "output_type": "stream",
     "text": [
      "[[1 4 6]\n",
      " [1 4 7]\n",
      " [1 5 6]\n",
      " [1 5 7]\n",
      " [2 4 6]\n",
      " [2 4 7]\n",
      " [2 5 6]\n",
      " [2 5 7]\n",
      " [3 4 6]\n",
      " [3 4 7]\n",
      " [3 5 6]\n",
      " [3 5 7]]\n"
     ]
    }
   ],
   "source": [
    "def cartesian(arrays):\n",
    "    arrays = [np.asarray(a) for a in arrays]\n",
    "    shape = (len(x) for x in arrays)\n",
    "\n",
    "    ix = np.indices(shape, dtype=int)\n",
    "    ix = ix.reshape(len(arrays), -1).T\n",
    "\n",
    "    for n, arr in enumerate(arrays):\n",
    "        ix[:, n] = arrays[n][ix[:, n]]\n",
    "\n",
    "    return ix\n",
    "\n",
    "print (cartesian(([1, 2, 3], [4, 5], [6, 7])))"
   ]
  },
  {
   "cell_type": "markdown",
   "metadata": {},
   "source": [
    "# 11.How to create a record array from a regular array?"
   ]
  },
  {
   "cell_type": "code",
   "execution_count": 30,
   "metadata": {},
   "outputs": [
    {
     "data": {
      "text/plain": [
       "rec.array([(b'Hello', 2.5, 3), (b'World', 3.6, 2)],\n",
       "          dtype=[('col1', 'S8'), ('col2', '<f8'), ('col3', '<i8')])"
      ]
     },
     "execution_count": 30,
     "metadata": {},
     "output_type": "execute_result"
    }
   ],
   "source": [
    "Z = np.array([(\"Hello\", 2.5, 3),\n",
    "              (\"World\", 3.6, 2)])\n",
    "R = np.core.records.fromarrays(Z.T,\n",
    "                               names='col1, col2, col3',\n",
    "                               formats = 'S8, f8, i8')\n",
    "R"
   ]
  },
  {
   "cell_type": "markdown",
   "metadata": {},
   "source": [
    "# 12.Consider a large vector Z, compute Z to the power of 3 using 3 different methods"
   ]
  },
  {
   "cell_type": "code",
   "execution_count": 51,
   "metadata": {},
   "outputs": [
    {
     "name": "stdout",
     "output_type": "stream",
     "text": [
      "4.2 µs ± 190 ns per loop (mean ± std. dev. of 7 runs, 100000 loops each)\n",
      "1.57 µs ± 113 ns per loop (mean ± std. dev. of 7 runs, 1000000 loops each)\n",
      "4.97 µs ± 144 ns per loop (mean ± std. dev. of 7 runs, 100000 loops each)\n"
     ]
    }
   ],
   "source": [
    "import numpy as np\n",
    "x = np.random.rand(47)\n",
    "\n",
    "%timeit np.power(x,3)\n",
    "%timeit x*x*x\n",
    "%timeit np.einsum('i,i,i->i',x,x,x)"
   ]
  },
  {
   "cell_type": "markdown",
   "metadata": {},
   "source": [
    "# 13.Consider two arrays A and B of shape (8,3) and (2,2). How to find rows of A that contain elements of each row of B regardless of the order of the elements in B?"
   ]
  },
  {
   "cell_type": "code",
   "execution_count": 29,
   "metadata": {},
   "outputs": [
    {
     "name": "stdout",
     "output_type": "stream",
     "text": [
      "[0 1 2 5 6]\n"
     ]
    }
   ],
   "source": [
    "import numpy as np\n",
    "A = np.random.randint(0,5,(8,3))\n",
    "B = np.random.randint(0,5,(2,2))\n",
    "\n",
    "C = (A[..., np.newaxis, np.newaxis] == B)\n",
    "rows = (C.sum(axis=(1,2,3)) >= B.shape[1]).nonzero()[0]\n",
    "print(rows)\n"
   ]
  },
  {
   "cell_type": "markdown",
   "metadata": {},
   "source": [
    "# 14.Considering a 10x3 matrix, extract rows with unequal values (e.g. [2,2,3])"
   ]
  },
  {
   "cell_type": "code",
   "execution_count": 28,
   "metadata": {},
   "outputs": [
    {
     "name": "stdout",
     "output_type": "stream",
     "text": [
      "[[3 1 0]\n",
      " [0 3 3]\n",
      " [1 3 4]\n",
      " [3 2 4]\n",
      " [2 3 0]\n",
      " [3 4 0]\n",
      " [0 2 0]\n",
      " [3 4 4]\n",
      " [0 3 4]\n",
      " [0 2 0]]\n",
      "[[3 1 0]\n",
      " [0 3 3]\n",
      " [1 3 4]\n",
      " [3 2 4]\n",
      " [2 3 0]\n",
      " [3 4 0]\n",
      " [0 2 0]\n",
      " [3 4 4]\n",
      " [0 3 4]\n",
      " [0 2 0]]\n"
     ]
    }
   ],
   "source": [
    "import numpy as np\n",
    "Z = np.random.randint(0,5,(10,3))\n",
    "E = np.logical_and.reduce(Z[:,1:] == Z[:,:-1], axis=1)\n",
    "U = Z[~E]\n",
    "print(Z)\n",
    "print(U)"
   ]
  },
  {
   "cell_type": "markdown",
   "metadata": {},
   "source": [
    "# 15.Convert a vector of ints into a matrix binary representation"
   ]
  },
  {
   "cell_type": "code",
   "execution_count": 27,
   "metadata": {},
   "outputs": [
    {
     "name": "stdout",
     "output_type": "stream",
     "text": [
      "[[0 0 0 0 0 0 0 0]\n",
      " [0 0 0 0 0 0 0 1]\n",
      " [0 0 0 0 0 0 1 0]\n",
      " [0 0 0 0 0 0 1 1]\n",
      " [0 0 0 0 1 1 1 1]\n",
      " [0 0 0 1 0 0 0 0]\n",
      " [0 0 1 0 0 0 0 0]\n",
      " [0 1 0 0 0 0 0 0]\n",
      " [1 0 0 0 0 0 0 0]]\n",
      "[[0 0 0 0 0 0 0 0]\n",
      " [0 0 0 0 0 0 0 1]\n",
      " [0 0 0 0 0 0 1 0]\n",
      " [0 0 0 0 0 0 1 1]\n",
      " [0 0 0 0 1 1 1 1]\n",
      " [0 0 0 1 0 0 0 0]\n",
      " [0 0 1 0 0 0 0 0]\n",
      " [0 1 0 0 0 0 0 0]\n",
      " [1 0 0 0 0 0 0 0]]\n"
     ]
    }
   ],
   "source": [
    "import numpy as np\n",
    "I = np.array([0, 1, 2, 3, 15, 16, 32, 64, 128])\n",
    "B = ((I.reshape(-1,1) & (2**np.arange(8))) != 0).astype(int)\n",
    "print(B[:,::-1])\n",
    "\n",
    "I = np.array([0, 1, 2, 3, 15, 16, 32, 64, 128], dtype=np.uint8)\n",
    "print(np.unpackbits(I[:, np.newaxis], axis=1))"
   ]
  },
  {
   "cell_type": "markdown",
   "metadata": {},
   "source": [
    "# 16. Given a two dimensional array, how to extract unique rows?\n",
    "\n"
   ]
  },
  {
   "cell_type": "code",
   "execution_count": 26,
   "metadata": {},
   "outputs": [
    {
     "name": "stdout",
     "output_type": "stream",
     "text": [
      "[[0 0 0]\n",
      " [0 1 1]\n",
      " [1 0 1]\n",
      " [1 1 0]\n",
      " [1 1 1]]\n"
     ]
    }
   ],
   "source": [
    "import numpy as np\n",
    "Z = np.random.randint(0,2,(6,3))\n",
    "T = np.ascontiguousarray(Z).view(np.dtype((np.void, Z.dtype.itemsize * Z.shape[1])))\n",
    "_, idx = np.unique(T, return_index=True)\n",
    "uZ = Z[idx]\n",
    "print(uZ)"
   ]
  },
  {
   "cell_type": "markdown",
   "metadata": {},
   "source": [
    "# 17.Considering 2 vectors A & B, write the einsum equivalent of inner, outer, sum, and mul function\n",
    "\n"
   ]
  },
  {
   "cell_type": "code",
   "execution_count": 25,
   "metadata": {},
   "outputs": [
    {
     "name": "stdout",
     "output_type": "stream",
     "text": [
      "[0 1 2]\n"
     ]
    }
   ],
   "source": [
    "import numpy as np\n",
    "A= np.arange(3)\n",
    "B =  np.arange(12).reshape(3,4)\n",
    "print (A)"
   ]
  },
  {
   "cell_type": "markdown",
   "metadata": {},
   "source": [
    "# 18.Considering a path described by two vectors (X,Y), how to sample it using equidistant samples ?\n",
    "\n"
   ]
  },
  {
   "cell_type": "code",
   "execution_count": 39,
   "metadata": {},
   "outputs": [
    {
     "data": {
      "text/plain": [
       "array([0.1       , 0.10099422, 0.10295387, 0.10582533, 0.10953691,\n",
       "       0.11400658, 0.11914907, 0.12488128, 0.1311259 , 0.13781329,\n",
       "       0.14488215, 0.15227936, 0.15995938, 0.16788341, 0.17601848,\n",
       "       0.18433667, 0.19281427, 0.20143115, 0.21017019, 0.21901677,\n",
       "       0.22795836, 0.2369842 , 0.24608504, 0.25525285, 0.26448065,\n",
       "       0.2737624 , 0.28309278, 0.29246713, 0.30188136, 0.31133186,\n",
       "       0.32081541, 0.33032917, 0.33987061, 0.34943745, 0.35902767,\n",
       "       0.36863944, 0.37827112, 0.38792122, 0.39758841, 0.40727146,\n",
       "       0.41696928, 0.42668085, 0.43640526, 0.44614167, 0.4558893 ,\n",
       "       0.46564746, 0.4754155 , 0.48519281, 0.49497885, 0.50477312,\n",
       "       0.51457514, 0.52438447, 0.53420072, 0.54402351, 0.55385249,\n",
       "       0.56368734, 0.57352776, 0.58337346, 0.59322418, 0.60307968,\n",
       "       0.61293972, 0.62280409, 0.63267259, 0.64254503, 0.65242122,\n",
       "       0.662301  , 0.67218422, 0.68207071, 0.69196035, 0.701853  ,\n",
       "       0.71174853, 0.72164683, 0.73154777, 0.74145127, 0.75135721,\n",
       "       0.7612655 , 0.77117605, 0.78108877, 0.79100358, 0.80092041,\n",
       "       0.81083918, 0.82075982, 0.83068226, 0.84060644, 0.8505323 ,\n",
       "       0.86045978, 0.87038883, 0.88031938, 0.8902514 , 0.90018483,\n",
       "       0.91011962, 0.92005574, 0.92999314, 0.93993178, 0.94987161,\n",
       "       0.95981261, 0.96975474, 0.97969796, 0.98964224, 0.99958755,\n",
       "       1.00953386, 1.01948114, 1.02942935, 1.03937848, 1.0493285 ,\n",
       "       1.05927938, 1.0692311 , 1.07918364, 1.08913696, 1.09909106,\n",
       "       1.10904591, 1.11900149, 1.12895779, 1.13891477, 1.14887243,\n",
       "       1.15883075, 1.16878971, 1.17874929, 1.18870948, 1.19867026,\n",
       "       1.20863162, 1.21859355, 1.22855603, 1.23851904, 1.24848258,\n",
       "       1.25844664, 1.26841119, 1.27837623, 1.28834175, 1.29830773,\n",
       "       1.30827417, 1.31824106, 1.32820838, 1.33817612, 1.34814428,\n",
       "       1.35811285, 1.36808181, 1.37805117, 1.38802091, 1.39799101,\n",
       "       1.40796149, 1.41793232, 1.4279035 , 1.43787502, 1.44784688,\n",
       "       1.45781906, 1.46779157, 1.47776439, 1.48773753, 1.49771096,\n",
       "       1.50768469, 1.51765871, 1.52763302, 1.53760761, 1.54758247,\n",
       "       1.5575576 , 1.56753299, 1.57750864, 1.58748455, 1.59746071,\n",
       "       1.60743711, 1.61741375, 1.62739062, 1.63736773, 1.64734506,\n",
       "       1.65732262, 1.66730039, 1.67727838, 1.68725659, 1.697235  ,\n",
       "       1.70721361, 1.71719242, 1.72717143, 1.73715064, 1.74713003,\n",
       "       1.75710961, 1.76708938, 1.77706932, 1.78704944, 1.79702974,\n",
       "       1.80701021, 1.81699085, 1.82697165, 1.83695262, 1.84693375,\n",
       "       1.85691504, 1.86689648, 1.87687808, 1.88685982, 1.89684172,\n",
       "       1.90682376, 1.91680594, 1.92678827, 1.93677073, 1.94675334,\n",
       "       1.95673607, 1.96671894, 1.97670195, 1.98668508, 1.99666833,\n",
       "       2.00665172, 2.01663522, 2.02661885, 2.0366026 , 2.04658647,\n",
       "       2.05657045, 2.06655454, 2.07653875, 2.08652307, 2.09650751,\n",
       "       2.10649204, 2.11647669, 2.12646144, 2.13644629, 2.14643125,\n",
       "       2.15641631, 2.16640146, 2.17638672, 2.18637207, 2.19635752,\n",
       "       2.20634306, 2.21632869, 2.22631442, 2.23630023, 2.24628613,\n",
       "       2.25627213, 2.26625821, 2.27624437, 2.28623062, 2.29621695,\n",
       "       2.30620337, 2.31618986, 2.32617644, 2.3361631 , 2.34614983,\n",
       "       2.35613664, 2.36612353, 2.37611049, 2.38609753, 2.39608464,\n",
       "       2.40607182, 2.41605907, 2.4260464 , 2.43603379, 2.44602126,\n",
       "       2.45600879, 2.46599639, 2.47598405, 2.48597178, 2.49595958,\n",
       "       2.50594744, 2.51593536, 2.52592335, 2.5359114 , 2.54589951,\n",
       "       2.55588768, 2.56587591, 2.57586419, 2.58585254, 2.59584094,\n",
       "       2.6058294 , 2.61581792, 2.62580649, 2.63579512, 2.64578381,\n",
       "       2.65577254, 2.66576133, 2.67575017, 2.68573907, 2.69572801,\n",
       "       2.70571701, 2.71570606, 2.72569515, 2.7356843 , 2.74567349,\n",
       "       2.75566273, 2.76565202, 2.77564136, 2.78563075, 2.79562018,\n",
       "       2.80560965, 2.81559917, 2.82558874, 2.83557835, 2.845568  ,\n",
       "       2.8555577 , 2.86554744, 2.87553722, 2.88552704, 2.89551691,\n",
       "       2.90550681, 2.91549676, 2.92548675, 2.93547677, 2.94546684,\n",
       "       2.95545695, 2.96544709, 2.97543727, 2.98542749, 2.99541775,\n",
       "       3.00540804, 3.01539837, 3.02538874, 3.03537915, 3.04536958,\n",
       "       3.05536006, 3.06535057, 3.07534111, 3.08533169, 3.0953223 ,\n",
       "       3.10531295, 3.11530363, 3.12529434, 3.13528508])"
      ]
     },
     "execution_count": 39,
     "metadata": {},
     "output_type": "execute_result"
    }
   ],
   "source": [
    "import numpy as np\n",
    "phi = np.arange(0, 10*np.pi, 0.1)\n",
    "a = 1\n",
    "x = a*phi*np.cos(phi)\n",
    "y = a*phi*np.sin(phi)\n",
    "\n",
    "dr = (np.diff(x)**2 + np.diff(y)**2)**.5\n",
    "r = np.zeros_like(x)\n",
    "r[1:] = np.cumsum(dr)                # integrate path\n",
    "r_int = np.linspace(0, r.max(), 200) # regular spaced path\n",
    "x_int = np.interp(r_int, r, x)       # integrate path\n",
    "y_int = np.interp(r_int, r, y)\n",
    "dr"
   ]
  },
  {
   "cell_type": "markdown",
   "metadata": {},
   "source": [
    "# 19.Given an integer n and a 2D array X, select from X the rows which can be interpreted as draws from a multinomial distribution with n degrees, i.e., the rows which only contain integers and which sum to n.\n",
    "\n"
   ]
  },
  {
   "cell_type": "code",
   "execution_count": 23,
   "metadata": {},
   "outputs": [
    {
     "name": "stdout",
     "output_type": "stream",
     "text": [
      "[[2. 0. 1. 1.]]\n"
     ]
    }
   ],
   "source": [
    "import numpy as np\n",
    "X = np.asarray([[1.0, 0.0, 3.0, 8.0],\n",
    "\n",
    "[2.0, 0.0, 1.0, 1.0],\n",
    "\n",
    "[1.5, 2.5, 1.0, 0.0]])\n",
    "\n",
    "n = 4\n",
    "\n",
    "M = np.logical_and.reduce(np.mod(X, 1) == 0, axis=-1)\n",
    "\n",
    "M &= (X.sum(axis=-1) == n)\n",
    "\n",
    "print(X[M])"
   ]
  },
  {
   "cell_type": "markdown",
   "metadata": {},
   "source": [
    "# 20.Compute bootstrapped 95% confidence intervals for the mean of a 1D array X (i.e., resample the elements of an array with replacement N times, compute the mean of each sample, and then compute percentiles over the means)."
   ]
  },
  {
   "cell_type": "code",
   "execution_count": 22,
   "metadata": {},
   "outputs": [
    {
     "name": "stdout",
     "output_type": "stream",
     "text": [
      "[-0.24079943  0.18839968]\n"
     ]
    }
   ],
   "source": [
    "import numpy as np\n",
    "X = np.random.randn(100) # random 1D array\n",
    "\n",
    "N = 1000 # number of bootstrap samples\n",
    "\n",
    "idx = np.random.randint(0, X.size, (N, X.size))\n",
    "\n",
    "means = X[idx].mean(axis=1)\n",
    "\n",
    "confint = np.percentile(means, [2.5, 97.5])\n",
    "\n",
    "print(confint)"
   ]
  },
  {
   "cell_type": "code",
   "execution_count": null,
   "metadata": {},
   "outputs": [],
   "source": []
  }
 ],
 "metadata": {
  "kernelspec": {
   "display_name": "Python 3",
   "language": "python",
   "name": "python3"
  },
  "language_info": {
   "codemirror_mode": {
    "name": "ipython",
    "version": 3
   },
   "file_extension": ".py",
   "mimetype": "text/x-python",
   "name": "python",
   "nbconvert_exporter": "python",
   "pygments_lexer": "ipython3",
   "version": "3.8.5"
  }
 },
 "nbformat": 4,
 "nbformat_minor": 4
}
